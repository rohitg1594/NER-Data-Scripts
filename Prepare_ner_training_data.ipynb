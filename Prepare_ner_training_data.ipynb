{
 "cells": [
  {
   "cell_type": "code",
   "execution_count": 1,
   "metadata": {
    "collapsed": true
   },
   "outputs": [],
   "source": [
    "import bz2\n",
    "import re\n",
    "from collections import defaultdict\n",
    "import sys"
   ]
  },
  {
   "cell_type": "code",
   "execution_count": null,
   "metadata": {
    "collapsed": true
   },
   "outputs": [],
   "source": [
    "abst = {}\n",
    "with bz2.BZ2File('../long_abstracts_en.tql.bz2', 'r') as f:\n",
    "        for i, line in enumerate(f):\n",
    "            if i == 0:\n",
    "                continue\n",
    "            split = line.split(b' ', 2)\n",
    "            v = split[2].decode('utf-8').split('@')[0]\n",
    "            k = split[0].decode('utf-8').split('/')[-1][:-1]\n",
    "            abst[k] = v"
   ]
  },
  {
   "cell_type": "code",
   "execution_count": null,
   "metadata": {},
   "outputs": [],
   "source": [
    "RE_SCHEMA = re.compile(r'(.*?)\\s.*schema\\.org\\/(.*)')\n",
    "ent2type = {}\n",
    "with open('../dbpedia/out/instanceTypes.tsv', 'r') as f:\n",
    "    for i, line  in enumerate(f):\n",
    "        m = RE_SCHEMA.match(line)\n",
    "        if m:\n",
    "            ent2type[m.group(1)] = m.group(2)"
   ]
  },
  {
   "cell_type": "code",
   "execution_count": null,
   "metadata": {},
   "outputs": [],
   "source": [
    "with open('abst.tsv', 'w') as f:\n",
    "    for k, v in abst.items():\n",
    "        f.write('{}\\t{}\\n'.format(k, v))"
   ]
  },
  {
   "cell_type": "code",
   "execution_count": null,
   "metadata": {},
   "outputs": [],
   "source": [
    "with open('ent2type.tsv', 'w') as f:\n",
    "    for k, v in ent2type.items():\n",
    "        f.write('{}\\t{}\\n'.format(k, v))"
   ]
  },
  {
   "cell_type": "code",
   "execution_count": 10,
   "metadata": {},
   "outputs": [
    {
     "name": "stdout",
     "output_type": "stream",
     "text": [
      "\n",
      "\n"
     ]
    }
   ],
   "source": [
    "abst = {}\n",
    "with open('../data_ner/abst.tsv', 'r') as f:\n",
    "    for line in f:\n",
    "        try:\n",
    "            k, v = line.split('\\t', 2)\n",
    "        except ValueError:\n",
    "            print(line)\n",
    "        abst[k] = v"
   ]
  },
  {
   "cell_type": "code",
   "execution_count": 11,
   "metadata": {},
   "outputs": [
    {
     "data": {
      "text/plain": [
       "4932176"
      ]
     },
     "execution_count": 11,
     "metadata": {},
     "output_type": "execute_result"
    }
   ],
   "source": [
    "len(abst)"
   ]
  },
  {
   "cell_type": "code",
   "execution_count": null,
   "metadata": {},
   "outputs": [
    {
     "name": "stdout",
     "output_type": "stream",
     "text": [
      "['96,116,Muslim_world', '220,225,Mecca', '230,236,Medina', '291,305,Historical_powers#Arab_Caliphates', '320,326,Al-Andalus', '346,357,Indus_river', '407,415,Umayyads', '449,455,Caliphate_of_Córdoba', '458,466,Abbasids', '468,476,Fatimids', '482,489,Mamluk', '547,567,Islamic_Golden_Age', '609,616,Science_in_the_medieval_Islamic_world', '638,649,Astronomy_in_the_medieval_Islamic_world', '651,665,Mathematics_in_medieval_Islam', '667,674,Medicine_in_the_medieval_Islamic_world', '679,691,Islamic_philosophy', '703,722,Golden_Age_of_Islam', '993,1009,Mongol_invasions', '1066,1077,Black_Death', '1186,1205,Early_Modern_period', '1211,1219,Ottoman_Empire', '1225,1233,Safavid_dynasty', '1243,1250,Mughal_Empire', '1335,1347,Muslim_world', '1399,1411,Great_power']\n",
      "7398837\n",
      "['15,31,American_English', '43,58,British_English', '79,85,Potato', '100,110,Deep_frying', '197,202,Snack', '204,213,Side_dish', '218,227,Appetizer', '260,266,Edible_salt', '357,362,Herbs', '364,370,Spice', '372,379,Cheese', '385,405,Food_additive', '506,510,Corn', '512,519,Tapioca', '530,537,Cereals', '603,613,Snack_food', '765,771,Savoriness']\n",
      "14771514\n",
      "['57,69,494_(number)', '91,111,494_(disambiguation)', '124,130,Roman_numerals', '138,170,Common_year_starting_on_Saturday', '216,231,Julian_calendar', '346,361,Ab_urbe_condita']\n",
      "22077619\n",
      "['90,99,Physician', '104,113,Physicist', '202,212,Physiology', '217,227,Psychology', '268,271,Human_eye', '273,291,Theory_of_vision', '306,323,Visual_perception', '334,346,Color_vision', '412,422,Empiricism', '427,434,Physics', '488,494,Energy', '504,519,Electrodynamics', '521,544,Chemical_thermodynamics', '555,565,Mechanics', '580,594,Thermodynamics', '601,612,Philosopher', '634,655,Philosophy_of_science', '718,732,Physical_law', '749,759,Aesthetics', '841,862,Research_institution', '868,889,Helmholtz_Association_of_German_Research_Centres']\n",
      "29489273\n",
      "['73,84,Philosopher', '86,99,Mathematician', '105,123,Computer_scientist', '147,166,Analytic_philosophy', '244,262,Philosophy_of_mind', '264,286,Philosophy_of_language', '288,313,Philosophy_of_mathematics', '319,340,Philosophy_of_science', '417,435,Harvard_University', '787,800,Type_physicalism', '862,884,Multiple_realizability', '923,936,Functionalism_(philosophy_of_mind)', '974,991,Mind–body_problem', '1031,1042,Saul_Kripke', '1072,1098,Causal_theory_of_reference', '1172,1192,Externalism', '1211,1229,Thought_experiment', '1237,1247,Twin_Earth_thought_experiment', '1252,1277,Philosophy_of_mathematics', '1297,1308,Willard_Van_Orman_Quine', '1325,1360,Quine–Putnam_indispensability_thesis', '1488,1502,Quasi-empiricism_in_mathematics', '1521,1533,Epistemology', '1584,1597,Brain_in_a_vat', '1686,1712,Skepticism', '1754,1765,Metaphysics', '1808,1828,Philosophical_realism', '2043,2061,Scientific_realism', '2175,2199,Philosophy_of_perception', '2223,2237,Direct_realism', '2398,2408,Sense_data', '2546,2561,Transactionalism', '2856,2862,Qualia', '2945,2962,Jewish_philosophy', '2968,2974,Ethics', '3071,3085,Metaphilosophy', '3216,3227,Mathematics', '3232,3248,Computer_science', '3264,3276,Martin_Davis', '3294,3316,Davis–Putnam_algorithm', '3325,3355,Boolean_satisfiability_problem', \"3403,3426,Hilbert's_tenth_problem\", '3520,3543,Progressive_Labor_Party_(United_States)']\n",
      "36923816\n",
      "['31,45,Protected_area', '57,72,South_Australia', '115,123,Adelaide', '214,236,Younghusband_Peninsula']\n",
      "44362717\n",
      "['12,16,Administrative_divisions_of_New_York#Town', '20,36,Schoharie_County,_New_York', '38,46,New_York_(state)', '48,61,United_States', '107,111,United_States_Census_2000', '304,311,Oneonta,_New_York']\n",
      "51938133\n",
      "['44,51,Belgium', '52,64,Municipalities_in_Belgium', '72,79,Flemish_Region', '80,88,Provinces_of_Belgium', '92,105,East_Flanders', '230,240,Old_High_German']\n",
      "59463460\n",
      "['20,35,Central_Ontario', '69,80,Lake_Simcoe', '102,115,Simcoe_County', '129,152,Independent_city', '172,179,Huronia_(region)', '190,205,Central_Ontario', '249,273,Golden_Horseshoe', '336,347,Canada_2011_Census', '421,433,List_of_the_100_largest_municipalities_in_Canada_by_population', '520,544,Census_metropolitan_areas', '604,630,List_of_the_100_largest_metropolitan_areas_in_Canada']\n",
      "66881623\n",
      "['41,69,Larry_Clark_(disambiguation)', '245,249,Kids_(film)', '282,287,Tulsa_(book)', '425,435,Subculture', '445,452,Surfing', '454,463,Punk_subculture', '467,480,Skateboarding']\n",
      "74308941\n",
      "['68,85,Shrine_Auditorium', '89,100,Los_Angeles', '226,238,Quincy_Jones', '354,366,Jack_Douglas_(record_producer)', '368,379,John_Lennon', '384,392,Yoko_Ono', '397,411,Double_Fantasy', '442,453,Donna_Terry_Weiss', '458,474,Jackie_DeShannon', '481,496,Bette_Davis_Eyes']\n",
      "81771719\n",
      "['109,117,Toponymy', '178,184,Eponym']\n",
      "89271051\n",
      "['3,15,Christianity', '46,55,Religion', '367,382,Christology', '401,421,Apostolic_succession', '423,434,Christian_eschatology', '440,453,Papal_primacy', '605,629,Branches_of_Christianity', '631,658,List_of_Christian_denominations', '764,788,One_true_church', '814,826,Jesus_Christ', '834,848,Christianity_in_the_1st_century', '1218,1233,Catholic_Church', '1380,1402,Religious_denomination', '1409,1420,Sunni_Islam', '1594,1618,Protestantism', '1732,1743,Anglicanism', '1803,1823,Western_Christianity', '1868,1875,Western_Europe', '1877,1885,Northern_Europe', '1887,1894,Central_Europe', '1899,1914,Southern_Europe', '1916,1934,Sub-Saharan_Africa', '1940,1948,Americas', '1953,1960,Oceania', '1966,1989,Eastern_Orthodox_Church', '2228,2237,Communion_(Christianity)', '2259,2272,Autocephalous', '2409,2427,Oriental_Orthodoxy', '2436,2463,Assyrian_Church_of_the_East', '2477,2497,Eastern_Christianity', '2557,2571,Eastern_Europe', '2573,2583,North_Asia', '2589,2600,Middle_East', '2605,2621,Northeast_Africa', '2911,2949,Four_Marks_of_the_Church', '3057,3067,Theology', '3072,3081,Ritual', '3295,3303,Baptism', '3333,3341,Orthodoxy', '3362,3379,Divinity_of_Jesus', '3397,3400,Christian_views_on_sin', '3405,3414,Salvation_in_Christianity', '3442,3458,Ecclesiology', '3476,3507,Ecumenism', '3539,3549,Vatican_II', '3681,3699,Apostolic_see', '3737,3749,Subsistit_in', '3754,3767,Branch_theory', '3779,3808,Non-denominational_Christianity']\n",
      "96738433\n",
      "['21,61,St_Martin-in-the-Fields_(disambiguation)', '102,110,Church_of_England', '146,162,Trafalgar_Square', '170,189,City_of_Westminster', '191,197,London', '224,239,Martin_of_Tours', '346,358,Neoclassical_architecture', '369,380,James_Gibbs']\n",
      "104211662\n",
      "['77,87,Ice_hockey', '88,97,Centre_(ice_hockey)', '105,122,Captain_(ice_hockey)#Alternate_captain', '131,146,San_Jose_Sharks', '154,176,National_Hockey_League', '200,213,List_of_first_overall_NHL_draft_picks', '221,234,Boston_Bruins', '242,262,1997_NHL_Entry_Draft', '345,359,2005–06_NHL_season', '452,460,Art_Ross_Trophy', '465,487,Hart_Memorial_Trophy', '638,651,Power_forward_(ice_hockey)']\n",
      "111711541\n",
      "['30,43,Shapeshifter', '66,71,Loch', '175,184,Cormorant', '188,208,Great_northern_diver', '300,310,Water_bull', '513,524,Water_horse', '711,728,John_Francis_Campbell', '810,819,Great_auk', '946,953,Bittern']\n",
      "119217352\n",
      "['137,144,Romania', '146,153,Moldova', '188,197,Romanians', '251,259,Bulgaria', '265,275,Martenitsa', '306,313,Albania', '319,324,Italy', '716,724,Amulet']\n",
      "126737490\n",
      "['56,64,Asteroid', '94,107,Asteroid_belt', '191,202,Brian_Skiff', '215,236,Anderson_Mesa_Station', '315,317,Astronomical_unit', '384,396,Orbital_eccentricity']\n",
      "134199739\n",
      "['78,108,Digital_terrestrial_television', '120,126,Sweden', '151,162,ITV_Digital', '892,899,Teracom', '970,972,3i', '1652,1664,Boxer_TV_A/S', '2036,2043,Republic_of_Ireland', '2079,2090,Communicorp', '2159,2175,Boxer_TV_Ireland', '2227,2261,Broadcasting_Commission_of_Ireland']\n",
      "141678360\n",
      "['22,28,German_language', '73,79,Polish_language', '122,127,Czech_language', '149,154,Latin_language', '195,209,Duchies_of_Silesia', '222,229,Cieszyn', '243,256,Upper_Silesia', '269,294,History_of_Poland_during_the_Piast_dynasty', '321,338,Duchy_of_Racibórz', '360,374,Dukes_of_Silesia', '384,397,Silesian_Piasts', '453,466,Lesser_Poland', '491,496,Biała_(Vistula)', '544,561,Duchy_of_Oświęcim', '598,606,Kingdom_of_Bohemia', '639,646,Silesia', '668,676,Kingdom_of_Prussia', '682,701,Frederick_the_Great', '754,761,Duchy_of_Troppau', '771,776,Duchy_of_Krnov', '781,785,Duchy_of_Nysa', '800,816,Austrian_Silesia', '878,895,House_of_Lorraine']\n",
      "149229133\n",
      "['64,76,Parvoviridae', '526,537,DNA_virus', '738,743,Latin', '780,782,Nanometer', '819,826,Disease', '835,842,Animal', '854,862,Starfish', '1008,1030,Gastrointestinal_tract', '1035,1051,Lymphatic_system', '1114,1131,Immunosuppression', '1136,1157,Cerebellar_hypoplasia_(non-human)', '1263,1273,Myocardium']\n",
      "156773878\n",
      "['43,45,Privy_Council_of_the_United_Kingdom', '94,100,Labour_Party_(UK)', '101,111,Politician', '123,139,UK_Cabinet', '213,240,European_Union', '327,350,Jean-Pierre_Chevènement', '415,431,Patrick_Cosgrave', '444,457,Harold_Wilson', '462,472,Tony_Blair']\n",
      "164309366\n",
      "['47,55,Cold_War', '96,100,NATO', '113,125,Soviet_Union', '177,189,Eastern_Bloc', '213,220,English_language', '335,345,Free_World', '353,366,Western_world', '368,382,Western_Europe']\n",
      "171851057\n",
      "['32,42,Governance', '54,62,Steering', '116,120,Non-governmental_organization', '145,155,Technology', '195,205,Innovation', '274,294,Joseph_Alois_Schumpeter', '296,315,Christopher_Freeman']\n",
      "179397243\n",
      "['47,62,Academic_paper', '94,113,Academic_conference', '428,443,Grey_literature', '861,875,Scholarly_peer_review', '1638,1645,Editing', '1878,1896,Academic_publishing', '1915,1948,Lecture_Notes_in_Computer_Science', '2211,2230,Scientific_journal', '2266,2283,Academic_journal', '2390,2469,Proceedings_of_the_National_Academy_of_Sciences_of_the_United_States_of_America', '2513,2524,Book_series', '2531,2538,Academic_journal', '2558,2564,Serial_(publishing)', '2606,2620,Impact_factor', '2655,2670,Journal_metrics', '2680,2694,Google_Scholar', '2695,2702,H-index', '2707,2714,Scimago', '2737,2759,Bibliographic_indexing', '2786,2809,Bibliographic_databases', '2814,2830,Citation_indexes', '2838,2875,Conference_Proceedings_Citation_Index', '2887,2909,Science_Citation_Index']\n",
      "186943432\n",
      "['31,42,Comic_strip', '188,196,American_football', '342,350,Anabolic_steroid']\n",
      "194560766\n"
     ]
    }
   ],
   "source": [
    "regp = re.compile(r'.*resource\\/(.*?)\\?.*(phrase|word)&char\\=(\\d+\\,\\d+)\\>.*taIdentRef.*resource\\/(.*?)\\>')\n",
    "links = defaultdict(list)\n",
    "counter = 0\n",
    "with bz2.BZ2File('../nif_text_links_en.tql.bz2') as f:\n",
    "    for i, line in enumerate(f):\n",
    "        if i == 0:\n",
    "            continue\n",
    "        text = line.decode('utf-8')\n",
    "        m = regp.match(text)\n",
    "        if m is None:\n",
    "            continue\n",
    "        \n",
    "        p_id = m.group(1)\n",
    "        if p_id not in abst:\n",
    "            continue\n",
    "            \n",
    "        offsets = m.group(3)\n",
    "        entity = m.group(4)\n",
    "\n",
    "        end = int(offsets.split(',')[1])\n",
    "        v = offsets + ',' + entity\n",
    "        if v not in links[p_id] and end < len(abst[p_id]):\n",
    "            links[p_id].append(v)\n",
    "        counter += 1\n",
    "        if counter % 10**6 == 0:\n",
    "            print(links[p_id])\n",
    "            print(i)"
   ]
  },
  {
   "cell_type": "code",
   "execution_count": null,
   "metadata": {},
   "outputs": [],
   "source": [
    "len(links)"
   ]
  },
  {
   "cell_type": "code",
   "execution_count": null,
   "metadata": {
    "collapsed": true
   },
   "outputs": [],
   "source": [
    "for i, (k,v) in enumerate(dict(links).items()):\n",
    "    if i == 1000:\n",
    "        break\n",
    "    print(k, v)"
   ]
  },
  {
   "cell_type": "code",
   "execution_count": null,
   "metadata": {},
   "outputs": [],
   "source": [
    "mentions = links['Animalia_(book)']\n",
    "print(mentions)\n",
    "for mention in mentions:\n",
    "    start, end, _ = mention.split(',')\n",
    "    start, end = int(start), int(end)\n",
    "    print(abst['Animalia_(book)'][start:end])"
   ]
  },
  {
   "cell_type": "code",
   "execution_count": null,
   "metadata": {
    "collapsed": true
   },
   "outputs": [],
   "source": [
    "for page_id, offsets in links.items():\n",
    "    for offset in offsets:\n",
    "        split = offset.split(',')\n",
    "        start, end = int(split[0]) + 1, int(split[1]) + 1\n",
    "        text = abst[page_id]\n",
    "        if end < len(text):\n",
    "            print(abst[page_id][start:end])"
   ]
  },
  {
   "cell_type": "code",
   "execution_count": null,
   "metadata": {},
   "outputs": [],
   "source": []
  }
 ],
 "metadata": {
  "kernelspec": {
   "display_name": "Python 3",
   "language": "python",
   "name": "python3"
  },
  "language_info": {
   "codemirror_mode": {
    "name": "ipython",
    "version": 3
   },
   "file_extension": ".py",
   "mimetype": "text/x-python",
   "name": "python",
   "nbconvert_exporter": "python",
   "pygments_lexer": "ipython3",
   "version": "3.6.3"
  }
 },
 "nbformat": 4,
 "nbformat_minor": 2
}
